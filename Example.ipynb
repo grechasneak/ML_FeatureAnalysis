{
 "cells": [
  {
   "cell_type": "code",
   "execution_count": 1,
   "metadata": {},
   "outputs": [],
   "source": [
    "from sklearn.ensemble import RandomForestRegressor\n",
    "from sklearn.ensemble import AdaBoostRegressor\n",
    "from sklearn.tree import DecisionTreeRegressor\n",
    "\n",
    "\n",
    "from ML_Analysis import data_prep\n",
    "from ML_Analysis import models"
   ]
  },
  {
   "cell_type": "code",
   "execution_count": 2,
   "metadata": {},
   "outputs": [],
   "source": [
    "exclude_list = ['ieu-comp-therm-002-003']\n",
    "dataframe = data_prep.load_dataframe('ML_Analysis/data/sen_data_summed.p', exclude_list)"
   ]
  },
  {
   "cell_type": "code",
   "execution_count": 3,
   "metadata": {},
   "outputs": [],
   "source": [
    "dataframe = data_prep.add_category(dataframe, 7)"
   ]
  },
  {
   "cell_type": "code",
   "execution_count": 4,
   "metadata": {},
   "outputs": [
    {
     "data": {
      "text/html": [
       "<div>\n",
       "<style>\n",
       "    .dataframe thead tr:only-child th {\n",
       "        text-align: right;\n",
       "    }\n",
       "\n",
       "    .dataframe thead th {\n",
       "        text-align: left;\n",
       "    }\n",
       "\n",
       "    .dataframe tbody tr th {\n",
       "        vertical-align: top;\n",
       "    }\n",
       "</style>\n",
       "<table border=\"1\" class=\"dataframe\">\n",
       "  <thead>\n",
       "    <tr style=\"text-align: right;\">\n",
       "      <th></th>\n",
       "      <th>keig_meas</th>\n",
       "      <th>keig_siml</th>\n",
       "      <th>kstd_meas</th>\n",
       "      <th>kstd_siml</th>\n",
       "      <th>bias</th>\n",
       "      <th>s</th>\n",
       "      <th>category</th>\n",
       "    </tr>\n",
       "    <tr>\n",
       "      <th>name</th>\n",
       "      <th></th>\n",
       "      <th></th>\n",
       "      <th></th>\n",
       "      <th></th>\n",
       "      <th></th>\n",
       "      <th></th>\n",
       "      <th></th>\n",
       "    </tr>\n",
       "  </thead>\n",
       "  <tbody>\n",
       "    <tr>\n",
       "      <th>heu-comp-inter-003-006</th>\n",
       "      <td>1</td>\n",
       "      <td>0.99558</td>\n",
       "      <td>0.0047</td>\n",
       "      <td>0.00011</td>\n",
       "      <td>-0.00442</td>\n",
       "      <td>[0.293550095282, 0.0, 0.0, 0.0, -0.00047858978...</td>\n",
       "      <td>heu-com</td>\n",
       "    </tr>\n",
       "    <tr>\n",
       "      <th>heu-comp-therm-002-001</th>\n",
       "      <td>1.0011</td>\n",
       "      <td>1.0115</td>\n",
       "      <td>0.0069</td>\n",
       "      <td>0.00013</td>\n",
       "      <td>0.0104</td>\n",
       "      <td>[0.4634409522, 0.0, 0.0, 0.0, -0.154525788571,...</td>\n",
       "      <td>heu-com</td>\n",
       "    </tr>\n",
       "    <tr>\n",
       "      <th>heu-comp-therm-002-002</th>\n",
       "      <td>1.0011</td>\n",
       "      <td>1.01385</td>\n",
       "      <td>0.0069</td>\n",
       "      <td>0.00013</td>\n",
       "      <td>0.01275</td>\n",
       "      <td>[0.46244505982, 0.0, 0.0, 0.0, -0.171514088587...</td>\n",
       "      <td>heu-com</td>\n",
       "    </tr>\n",
       "    <tr>\n",
       "      <th>heu-comp-therm-002-003</th>\n",
       "      <td>1.0011</td>\n",
       "      <td>1.01666</td>\n",
       "      <td>0.0069</td>\n",
       "      <td>0.00012</td>\n",
       "      <td>0.01556</td>\n",
       "      <td>[0.44339049255, 0.0, 0.0, 0.0, -0.192309929476...</td>\n",
       "      <td>heu-com</td>\n",
       "    </tr>\n",
       "    <tr>\n",
       "      <th>heu-comp-therm-002-004</th>\n",
       "      <td>1.0011</td>\n",
       "      <td>1.01599</td>\n",
       "      <td>0.0069</td>\n",
       "      <td>0.00012</td>\n",
       "      <td>0.01489</td>\n",
       "      <td>[0.423644569, 0.0, 0.0, 0.0, -0.213258513294, ...</td>\n",
       "      <td>heu-com</td>\n",
       "    </tr>\n",
       "  </tbody>\n",
       "</table>\n",
       "</div>"
      ],
      "text/plain": [
       "                       keig_meas keig_siml kstd_meas kstd_siml     bias  \\\n",
       "name                                                                      \n",
       "heu-comp-inter-003-006         1   0.99558    0.0047   0.00011 -0.00442   \n",
       "heu-comp-therm-002-001    1.0011    1.0115    0.0069   0.00013   0.0104   \n",
       "heu-comp-therm-002-002    1.0011   1.01385    0.0069   0.00013  0.01275   \n",
       "heu-comp-therm-002-003    1.0011   1.01666    0.0069   0.00012  0.01556   \n",
       "heu-comp-therm-002-004    1.0011   1.01599    0.0069   0.00012  0.01489   \n",
       "\n",
       "                                                                        s  \\\n",
       "name                                                                        \n",
       "heu-comp-inter-003-006  [0.293550095282, 0.0, 0.0, 0.0, -0.00047858978...   \n",
       "heu-comp-therm-002-001  [0.4634409522, 0.0, 0.0, 0.0, -0.154525788571,...   \n",
       "heu-comp-therm-002-002  [0.46244505982, 0.0, 0.0, 0.0, -0.171514088587...   \n",
       "heu-comp-therm-002-003  [0.44339049255, 0.0, 0.0, 0.0, -0.192309929476...   \n",
       "heu-comp-therm-002-004  [0.423644569, 0.0, 0.0, 0.0, -0.213258513294, ...   \n",
       "\n",
       "                       category  \n",
       "name                             \n",
       "heu-comp-inter-003-006  heu-com  \n",
       "heu-comp-therm-002-001  heu-com  \n",
       "heu-comp-therm-002-002  heu-com  \n",
       "heu-comp-therm-002-003  heu-com  \n",
       "heu-comp-therm-002-004  heu-com  "
      ]
     },
     "execution_count": 4,
     "metadata": {},
     "output_type": "execute_result"
    }
   ],
   "source": [
    "dataframe.head()"
   ]
  },
  {
   "cell_type": "code",
   "execution_count": 5,
   "metadata": {
    "collapsed": true
   },
   "outputs": [],
   "source": [
    "data = data_prep.strat_split(dataframe, 'category')"
   ]
  },
  {
   "cell_type": "code",
   "execution_count": 6,
   "metadata": {},
   "outputs": [],
   "source": [
    "X_train, X_test, y_train, y_test = data_prep.gen_training_data(data, 's', 'bias', True)"
   ]
  },
  {
   "cell_type": "code",
   "execution_count": 7,
   "metadata": {},
   "outputs": [],
   "source": [
    "forest = RandomForestRegressor(max_features=300, n_estimators=1000, random_state = 42)\n",
    "ADA = AdaBoostRegressor(DecisionTreeRegressor(max_depth = 35, max_features=300))"
   ]
  },
  {
   "cell_type": "code",
   "execution_count": 8,
   "metadata": {},
   "outputs": [],
   "source": [
    "forest = models.train_model(forest, X_train, y_train)\n",
    "ADA = models.train_model(ADA, X_train, y_train)"
   ]
  },
  {
   "cell_type": "code",
   "execution_count": 9,
   "metadata": {},
   "outputs": [
    {
     "name": "stdout",
     "output_type": "stream",
     "text": [
      "mse 0.5096928909090909, rmse 0.7139277911029174\n",
      "Coefficient of Determination R^2: 0.480649770105\n",
      "Mean Absolute Error: 0.494527272727\n"
     ]
    }
   ],
   "source": [
    "models.evaluate_model(forest, X_test, y_test)"
   ]
  },
  {
   "cell_type": "code",
   "execution_count": 10,
   "metadata": {},
   "outputs": [
    {
     "name": "stdout",
     "output_type": "stream",
     "text": [
      "mse 0.8318181818181818, rmse 0.912040668949681\n",
      "Coefficient of Determination R^2: 0.152421052632\n",
      "Mean Absolute Error: 0.422727272727\n"
     ]
    }
   ],
   "source": [
    "models.evaluate_model(ADA, X_test, y_test)"
   ]
  },
  {
   "cell_type": "code",
   "execution_count": 11,
   "metadata": {},
   "outputs": [
    {
     "name": "stdout",
     "output_type": "stream",
     "text": [
      "Mean MSE: 0.468283634045\n",
      "Standard deviation of MSE: 0.0649614821649\n",
      "Mean RMSE: 0.684312526588\n"
     ]
    }
   ],
   "source": [
    "cross_valScores = models.cross_val(forest, X_train, y_train)"
   ]
  },
  {
   "cell_type": "code",
   "execution_count": null,
   "metadata": {
    "collapsed": true
   },
   "outputs": [],
   "source": []
  },
  {
   "cell_type": "code",
   "execution_count": null,
   "metadata": {
    "collapsed": true
   },
   "outputs": [],
   "source": []
  }
 ],
 "metadata": {
  "kernelspec": {
   "display_name": "Python [default]",
   "language": "python",
   "name": "python3"
  },
  "language_info": {
   "codemirror_mode": {
    "name": "ipython",
    "version": 3
   },
   "file_extension": ".py",
   "mimetype": "text/x-python",
   "name": "python",
   "nbconvert_exporter": "python",
   "pygments_lexer": "ipython3",
   "version": "3.6.1"
  }
 },
 "nbformat": 4,
 "nbformat_minor": 2
}
